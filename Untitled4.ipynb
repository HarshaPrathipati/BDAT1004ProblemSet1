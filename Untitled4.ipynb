{
 "cells": [
  {
   "cell_type": "code",
   "execution_count": 4,
   "id": "ba8e579f",
   "metadata": {},
   "outputs": [
    {
     "ename": "SyntaxError",
     "evalue": "invalid syntax (4097537782.py, line 1)",
     "output_type": "error",
     "traceback": [
      "\u001b[1;36m  Input \u001b[1;32mIn [4]\u001b[1;36m\u001b[0m\n\u001b[1;33m    dynamic b = 3;\u001b[0m\n\u001b[1;37m            ^\u001b[0m\n\u001b[1;31mSyntaxError\u001b[0m\u001b[1;31m:\u001b[0m invalid syntax\n"
     ]
    }
   ],
   "source": [
    "#What data type is each of the following?\n",
    "\n",
    "\n",
    "dynamic b = 3;\n",
    "Console.WriteLine(b.GetType());\n"
   ]
  },
  {
   "cell_type": "code",
   "execution_count": 5,
   "id": "131b06bd",
   "metadata": {},
   "outputs": [
    {
     "ename": "SyntaxError",
     "evalue": "invalid syntax (1343817466.py, line 1)",
     "output_type": "error",
     "traceback": [
      "\u001b[1;36m  Input \u001b[1;32mIn [5]\u001b[1;36m\u001b[0m\n\u001b[1;33m    dynamic b = 5.0;\u001b[0m\n\u001b[1;37m            ^\u001b[0m\n\u001b[1;31mSyntaxError\u001b[0m\u001b[1;31m:\u001b[0m invalid syntax\n"
     ]
    }
   ],
   "source": [
    "dynamic b = 5.0;\n",
    "Console.WriteLine(b.GetType());"
   ]
  },
  {
   "cell_type": "code",
   "execution_count": 8,
   "id": "9791def1",
   "metadata": {},
   "outputs": [
    {
     "ename": "SyntaxError",
     "evalue": "invalid syntax (1571722094.py, line 1)",
     "output_type": "error",
     "traceback": [
      "\u001b[1;36m  Input \u001b[1;32mIn [8]\u001b[1;36m\u001b[0m\n\u001b[1;33m    dynamic b = '5';\u001b[0m\n\u001b[1;37m            ^\u001b[0m\n\u001b[1;31mSyntaxError\u001b[0m\u001b[1;31m:\u001b[0m invalid syntax\n"
     ]
    }
   ],
   "source": [
    "dynamic b = '5';\n",
    "Console.WriteLine(b.GetType());"
   ]
  },
  {
   "cell_type": "code",
   "execution_count": 9,
   "id": "ce9b5ff1",
   "metadata": {},
   "outputs": [
    {
     "ename": "SyntaxError",
     "evalue": "invalid syntax (2431130056.py, line 1)",
     "output_type": "error",
     "traceback": [
      "\u001b[1;36m  Input \u001b[1;32mIn [9]\u001b[1;36m\u001b[0m\n\u001b[1;33m    dynamic b = 5 * 2;\u001b[0m\n\u001b[1;37m            ^\u001b[0m\n\u001b[1;31mSyntaxError\u001b[0m\u001b[1;31m:\u001b[0m invalid syntax\n"
     ]
    }
   ],
   "source": [
    "dynamic b = 5 * 2;\n",
    "Console.WriteLine(b.GetType());"
   ]
  },
  {
   "cell_type": "code",
   "execution_count": 10,
   "id": "92261839",
   "metadata": {},
   "outputs": [
    {
     "ename": "SyntaxError",
     "evalue": "invalid syntax (244494055.py, line 1)",
     "output_type": "error",
     "traceback": [
      "\u001b[1;36m  Input \u001b[1;32mIn [10]\u001b[1;36m\u001b[0m\n\u001b[1;33m    dynamic b = '5' * 2;\u001b[0m\n\u001b[1;37m            ^\u001b[0m\n\u001b[1;31mSyntaxError\u001b[0m\u001b[1;31m:\u001b[0m invalid syntax\n"
     ]
    }
   ],
   "source": [
    "dynamic b = '5' * 2;\n",
    "Console.WriteLine(b.GetType());"
   ]
  },
  {
   "cell_type": "code",
   "execution_count": 11,
   "id": "c48ef100",
   "metadata": {},
   "outputs": [
    {
     "ename": "SyntaxError",
     "evalue": "invalid syntax (1037288057.py, line 1)",
     "output_type": "error",
     "traceback": [
      "\u001b[1;36m  Input \u001b[1;32mIn [11]\u001b[1;36m\u001b[0m\n\u001b[1;33m    dynamic a = '5' + '2';\u001b[0m\n\u001b[1;37m            ^\u001b[0m\n\u001b[1;31mSyntaxError\u001b[0m\u001b[1;31m:\u001b[0m invalid syntax\n"
     ]
    }
   ],
   "source": [
    "dynamic b = '5' + '2';\n",
    "Console.WriteLine(b.GetType());"
   ]
  },
  {
   "cell_type": "code",
   "execution_count": 16,
   "id": "95d9700a",
   "metadata": {},
   "outputs": [
    {
     "ename": "SyntaxError",
     "evalue": "invalid syntax (1878873216.py, line 1)",
     "output_type": "error",
     "traceback": [
      "\u001b[1;36m  Input \u001b[1;32mIn [16]\u001b[1;36m\u001b[0m\n\u001b[1;33m    dynamic b = 5 / 2;\u001b[0m\n\u001b[1;37m            ^\u001b[0m\n\u001b[1;31mSyntaxError\u001b[0m\u001b[1;31m:\u001b[0m invalid syntax\n"
     ]
    }
   ],
   "source": [
    "dynamic b = 5 / 2;\n",
    "Console.WriteLine(b.GetType());"
   ]
  },
  {
   "cell_type": "code",
   "execution_count": 17,
   "id": "e06d4c97",
   "metadata": {},
   "outputs": [
    {
     "ename": "SyntaxError",
     "evalue": "invalid syntax (817889206.py, line 1)",
     "output_type": "error",
     "traceback": [
      "\u001b[1;36m  Input \u001b[1;32mIn [17]\u001b[1;36m\u001b[0m\n\u001b[1;33m    dynamic b = 5 % 2;\u001b[0m\n\u001b[1;37m            ^\u001b[0m\n\u001b[1;31mSyntaxError\u001b[0m\u001b[1;31m:\u001b[0m invalid syntax\n"
     ]
    }
   ],
   "source": [
    "dynamic b = 5 % 2;\n",
    "Console.WriteLine(b.GetType());"
   ]
  },
  {
   "cell_type": "code",
   "execution_count": 18,
   "id": "e9b9c2aa",
   "metadata": {},
   "outputs": [
    {
     "ename": "SyntaxError",
     "evalue": "invalid syntax (3703180174.py, line 1)",
     "output_type": "error",
     "traceback": [
      "\u001b[1;36m  Input \u001b[1;32mIn [18]\u001b[1;36m\u001b[0m\n\u001b[1;33m    dynamic b = 5 == 3;\u001b[0m\n\u001b[1;37m            ^\u001b[0m\n\u001b[1;31mSyntaxError\u001b[0m\u001b[1;31m:\u001b[0m invalid syntax\n"
     ]
    }
   ],
   "source": [
    "dynamic b = 5 == 3;\n",
    "Console.WriteLine(b.GetType());"
   ]
  },
  {
   "cell_type": "code",
   "execution_count": 19,
   "id": "ccc64b7a",
   "metadata": {},
   "outputs": [
    {
     "ename": "SyntaxError",
     "evalue": "invalid syntax (484305614.py, line 4)",
     "output_type": "error",
     "traceback": [
      "\u001b[1;36m  Input \u001b[1;32mIn [19]\u001b[1;36m\u001b[0m\n\u001b[1;33m    string word= \"Supercalifragilisticexpialidocious\";\u001b[0m\n\u001b[1;37m           ^\u001b[0m\n\u001b[1;31mSyntaxError\u001b[0m\u001b[1;31m:\u001b[0m invalid syntax\n"
     ]
    }
   ],
   "source": [
    "#Question 2\n",
    "#A. How many letters are there in 'Supercalifragilisticexpialidocious'?\n",
    "\n",
    "string word= \"Supercalifragilisticexpialidocious\";\n",
    "int length= word.Length;\n",
    "Console.WriteLine(\"Easy way to calculate string length \");\n",
    "Console.WriteLine(\"------------------------------------\");\n",
    "Console.WriteLine(\"Length of the string is: \"+length)"
   ]
  },
  {
   "cell_type": "code",
   "execution_count": 20,
   "id": "c61293fd",
   "metadata": {},
   "outputs": [
    {
     "ename": "SyntaxError",
     "evalue": "invalid syntax (2157099216.py, line 3)",
     "output_type": "error",
     "traceback": [
      "\u001b[1;36m  Input \u001b[1;32mIn [20]\u001b[1;36m\u001b[0m\n\u001b[1;33m    string word = \"Supercalifragilisticexpialidocious\";\u001b[0m\n\u001b[1;37m           ^\u001b[0m\n\u001b[1;31mSyntaxError\u001b[0m\u001b[1;31m:\u001b[0m invalid syntax\n"
     ]
    }
   ],
   "source": [
    "#B. Does 'Supercalifragilisticexpialidocious' contain 'ice' as a substring?\n",
    "\n",
    "string word = \"Supercalifragilisticexpialidocious\";\n",
    "bool check = word.Contains(\"ice\");\n",
    "if (check == false) {                        // based on the check, it will print the answer  \n",
    "    Console.WriteLine(\"It doesn't contain 'ice' as a substring\");\n",
    "} else {\n",
    "    Console.WriteLine(\"Yes, String contains 'ice' as a substring!\");\n",
    "}"
   ]
  },
  {
   "cell_type": "code",
   "execution_count": 21,
   "id": "d56bb59a",
   "metadata": {},
   "outputs": [
    {
     "ename": "SyntaxError",
     "evalue": "invalid syntax (1579364723.py, line 3)",
     "output_type": "error",
     "traceback": [
      "\u001b[1;36m  Input \u001b[1;32mIn [21]\u001b[1;36m\u001b[0m\n\u001b[1;33m    string[] words = {\u001b[0m\n\u001b[1;37m           ^\u001b[0m\n\u001b[1;31mSyntaxError\u001b[0m\u001b[1;31m:\u001b[0m invalid syntax\n"
     ]
    }
   ],
   "source": [
    "#C. Which of the following words is the longest: Supercalifragilisticexpialidocious, Honorificabilitudinitatibus, or Bababadalgharaghtakamminarronnkonn?\n",
    "\n",
    "string[] words = {                      \n",
    "                   \"Supercalifragilisticexpialidocious\",\n",
    "                   \"Honorificabilitudinitatibus\",\n",
    "                   \"Bababadalgharaghtakamminarronnkonn\"\n",
    "                 };\n",
    "                 \n",
    "string word = \"\";\n",
    "int WordLength = 0;\n",
    "List < string > longerWords = new List < string > ();\n",
    "String[] str;\n",
    "foreach(string d in words)\n",
    "{\n",
    "    if (d.Length >= WordLength)              // Used foreach loop to check the length of every word\n",
    "    {\n",
    "        word = d;\n",
    "        WordLength = d.Length;\n",
    "        longerWords.Add(word);              //adding words in a list \n",
    "        //str = longerWords.ToArray();\n",
    "    }\n",
    "}\n",
    "Console.WriteLine($\"Lengthiest word is/are {longerWords.Count} \"); //Counting the lengthiest words\n",
    "Console.WriteLine(\"--------------------------------------------\");\n",
    "\n",
    "foreach(string d in longerWords)    // Printing words using foreach loop\n",
    "{       \n",
    "    Console.WriteLine(d);\n",
    "}"
   ]
  },
  {
   "cell_type": "code",
   "execution_count": null,
   "id": "39d0a48e",
   "metadata": {},
   "outputs": [],
   "source": [
    "#D. Which composer comes first in the dictionary: 'Berlioz', 'Borodin', 'Brian', 'Bartok', 'Bellini', 'Buxtehude', 'Bernstein'. Which one comes last?\n",
    "\n",
    "Dictionary < string, Int16 > ComposerList = new Dictionary < string, Int16 > ();  \n",
    " ComposerList.Add(\"Berlioz\", 1);\n",
    " ComposerList.Add(\"Borodin\", 2);\n",
    " ComposerList.Add(\"Brian\", 3);\n",
    " ComposerList.Add(\"Bartok\", 4);\n",
    " ComposerList.Add(\"Bellini\", 5);\n",
    " ComposerList.Add(\"Buxtehude\", 6);\n",
    " ComposerList.Add(\"Bernsteinl\", 7);\n",
    "\n",
    " Dictionary < string, Int16 > SortedComposerList = new Dictionary < string, Int16 > ();   // Making another dictionary for sorted ones\n",
    " List < string > SortedComposers = new List < string > ();\n",
    " Console.WriteLine(\"Sorted by Composer Name\");\n",
    " Console.WriteLine(\"-----------------------\");\n",
    " \n",
    " // for each loop for sorting the composer names on the basis of a key from  dictionary\n",
    " \n",
    " foreach(KeyValuePair < string, Int16 > author in ComposerList.OrderBy(key => key.Key)) \n",
    " { \n",
    "     Console.WriteLine(\"Key: {0}, Value: {1}\", author.Key, author.Value);\n",
    "     SortedComposerList.Add(author.Key, author.Value);\n",
    "     SortedComposers.Add(author.Key);\n",
    " }\n",
    " Console.WriteLine(\"\\nFirst Composer : {0},\\nLast Composer : {1}\", SortedComposers.First(), SortedComposers.Last()); \n",
    " Console.WriteLine(\"\\nFirst Composer : {0},\\nLast Composer : {1}\", SortedComposerList.First(), SortedComposerList.Last());\n",
    " \n",
    "Console.WriteLine($\"\\nBy Second Method using sorted set\");\n",
    "\n",
    "SortedSet<string> composerList = new SortedSet<string>();\n",
    "composerList.Add(\"Berlioz\");\n",
    "composerList.Add(\"Borodin\");\n",
    "composerList.Add(\"Brian\");\n",
    "composerList.Add(\"Bartok\");\n",
    "composerList.Add(\"Bellini\");\n",
    "composerList.Add(\"Buxtehude\");\n",
    "composerList.Add(\"Bernsteinl\");\n",
    "\n",
    "  foreach(var val in composerList)\n",
    "        {\n",
    "           // Console.WriteLine(val);\n",
    "        }\n",
    "\n",
    "Console.WriteLine(\"\\nFirst Composer : {0},\\nLast Composer : {1}\", composerList.First(), composerList.Last());"
   ]
  },
  {
   "cell_type": "code",
   "execution_count": 22,
   "id": "9fb0492c",
   "metadata": {},
   "outputs": [
    {
     "ename": "SyntaxError",
     "evalue": "invalid syntax (3284360869.py, line 3)",
     "output_type": "error",
     "traceback": [
      "\u001b[1;36m  Input \u001b[1;32mIn [22]\u001b[1;36m\u001b[0m\n\u001b[1;33m    public static double triangleArea(int a, int b, int c)\u001b[0m\n\u001b[1;37m           ^\u001b[0m\n\u001b[1;31mSyntaxError\u001b[0m\u001b[1;31m:\u001b[0m invalid syntax\n"
     ]
    }
   ],
   "source": [
    "#Implement function triangleArea(a,b,c) that takes as input the lengths of the 3 sides of a triangle and returns the area of the triangle. By Heron's formula, the area of a triangle with side lengths a, b, and c is s(s - a)(s -b)(s -c) , where s = (a+b+c)/2.\n",
    "\n",
    "public static double triangleArea(int a, int b, int c)\n",
    "{\n",
    "    double s = (a + b + c) / 2;\n",
    "    double area = Math.Sqrt(s * (s - a) *\n",
    "        (s - b) * (s - c));\n",
    "    return area;\n",
    "}\n",
    "double area = triangleArea(2, 2, 2);\n",
    "Console.WriteLine($\"Area of Triangle : {area}\")"
   ]
  },
  {
   "cell_type": "code",
   "execution_count": 23,
   "id": "94506a52",
   "metadata": {},
   "outputs": [
    {
     "ename": "SyntaxError",
     "evalue": "invalid syntax (1560556986.py, line 6)",
     "output_type": "error",
     "traceback": [
      "\u001b[1;36m  Input \u001b[1;32mIn [23]\u001b[1;36m\u001b[0m\n\u001b[1;33m    int inpt = Convert.ToInt32(Console.ReadLine());\u001b[0m\n\u001b[1;37m        ^\u001b[0m\n\u001b[1;31mSyntaxError\u001b[0m\u001b[1;31m:\u001b[0m invalid syntax\n"
     ]
    }
   ],
   "source": [
    "#Question 4\n",
    "#Write a program in C# Sharp to separate odd and even integers in separate arrays\n",
    "\n",
    "\n",
    "Console.Write(\"Input the number of elements to be stored in the array :\");\n",
    "int inpt = Convert.ToInt32(Console.ReadLine());\n",
    "int[] arr = new int[inpt];\n",
    "int[] EvenArr;\n",
    "int[] OddArr;\n",
    "List < int > EvenNos = new List < int > ();\n",
    "List < int > OddNos = new List < int > ();\n",
    "Console.WriteLine($\"Input {inpt} elements in the array :\");\n",
    "for (int c = 0; c < 5; c++) {\n",
    "    Console.Write(\"element - {0} : \", c);         \n",
    "    arr[c] = Convert.ToInt32(Console.ReadLine());  // reading inputs from a console\n",
    "}\n",
    "\n",
    "for (int c = 0; c < 5; c++) {\n",
    "    //Console.Write(\"{0}  \", arr[c]);\n",
    "    if (arr[c] % 2 == 0) {       // separating numbers in 2 different arrays on basis of even and odd\n",
    "        EvenNos.Add(arr[c]);\n",
    "        EvenArr = EvenNos.ToArray();\n",
    "    } else {\n",
    "        OddNos.Add(arr[c]);\n",
    "        OddArr = OddNos.ToArray();\n",
    "    }\n",
    "}\n",
    "\n",
    "Console.WriteLine(\"\\nThe Even elements are:\");\n",
    "\n",
    "foreach(int c in EvenNos) {        // printing even nos.\n",
    "    Console.Write($\"{i}\\t\");\n",
    "}\n",
    "\n",
    "Console.WriteLine(\"\\nThe Odd elements are:\");\n",
    "foreach(int i in OddNos) {         // printing odd nos.\n",
    "    Console.Write($\"{i}\\t\");\n",
    "}\n",
    "Console.WriteLine(\"\\n\");"
   ]
  },
  {
   "cell_type": "code",
   "execution_count": 24,
   "id": "08ffa6dd",
   "metadata": {},
   "outputs": [
    {
     "ename": "SyntaxError",
     "evalue": "invalid syntax (1663513201.py, line 3)",
     "output_type": "error",
     "traceback": [
      "\u001b[1;36m  Input \u001b[1;32mIn [24]\u001b[1;36m\u001b[0m\n\u001b[1;33m    public static bool inside(double x, double y, double x1, double y1, double x2, double y2)\u001b[0m\n\u001b[1;37m           ^\u001b[0m\n\u001b[1;31mSyntaxError\u001b[0m\u001b[1;31m:\u001b[0m invalid syntax\n"
     ]
    }
   ],
   "source": [
    "#Use function inside() from part a. to write an expression that tests whether the point (1,1) lies in both of the following rectangles: one with lower left corner (0.3, 0.5) and upper right corner (1.1, 0.7) and the other with lower left corner (0.5, 0.2) and upper right corner (1.1, 2).\n",
    "\n",
    "public static bool inside(double x, double y, double x1, double y1, double x2, double y2)\n",
    "{\n",
    "    // points - x,y, lower left corner - x1,y1, upper right corner - x2,y2.   \n",
    "\n",
    "    if (x > x1 && x < x2 &&\n",
    "        y > y1 && y < y2)\n",
    "        return true;\n",
    "\n",
    "    return false;\n",
    "}\n",
    "\n",
    "Console.WriteLine(\"----------a.--------\\n\");\n",
    "Console.WriteLine($\"inside(1,1,0,0,2,3):{inside(1,1,0,0,2,3)}\");\n",
    "Console.WriteLine($\"inside(-1,-1,0,0,2,3):{inside(-1,-1,0,0,2,3)}\\n\");\n",
    "Console.WriteLine(\"----------b.--------\\n\");\n",
    "\n",
    "\n",
    "if(inside(1,1,0.3,0.5,1.1,0.7) && inside(1,1,0.5,0.2,1.1,2)){\n",
    "    Console.WriteLine(\"the point (1,1) lies in both of the following rectangles\");\n",
    "}\n",
    "else{\n",
    "    Console.WriteLine(\"The point (1,1) doesn't lie in both of the following rectangles\");\n",
    "}\n",
    "Console.WriteLine($\"\\ninside(1,1,0.3,0.5,1.1,0.7):{inside(1,1,0.3,0.5,1.1,0.7)}\");\n",
    "Console.WriteLine($\"inside(1,1,0.5,0.2,1.1,2):{inside(1,1,0.5,0.2,1.1,2)}\");"
   ]
  },
  {
   "cell_type": "code",
   "execution_count": null,
   "id": "bd70b0f0",
   "metadata": {},
   "outputs": [],
   "source": []
  }
 ],
 "metadata": {
  "kernelspec": {
   "display_name": "Python 3 (ipykernel)",
   "language": "python",
   "name": "python3"
  },
  "language_info": {
   "codemirror_mode": {
    "name": "ipython",
    "version": 3
   },
   "file_extension": ".py",
   "mimetype": "text/x-python",
   "name": "python",
   "nbconvert_exporter": "python",
   "pygments_lexer": "ipython3",
   "version": "3.9.12"
  }
 },
 "nbformat": 4,
 "nbformat_minor": 5
}
