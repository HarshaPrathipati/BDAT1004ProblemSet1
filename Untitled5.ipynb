{
 "cells": [
  {
   "cell_type": "code",
   "execution_count": 1,
   "id": "7bce934a",
   "metadata": {},
   "outputs": [
    {
     "name": "stdout",
     "output_type": "stream",
     "text": [
      "appyhay\n"
     ]
    }
   ],
   "source": [
    "#Question 6\n",
    "#You can turn a word into pig-Latin using the following two rules (simplified): • If the word starts with a consonant, move that letter to the end and append 'ay'. For example, 'happy' becomes 'appyhay' and 'pencil' becomes 'encilpay'. • If the word starts with a vowel, simply append 'way' to the end of the word. For example, 'enter' becomes 'enterway' and 'other' becomes 'otherway' . For our purposes, there are 5 vowels: a, e, i, o, u (so we count y as a consonant). Write a function pig() that takes a word (i.e., a string) as input and returns its pigLatin form. Your function should still work if the input word contains upper case characters. Your output should always be lower case however.\n",
    "#>>> pig('happy')\n",
    "#'appyhay'\n",
    "#>>> pig('Enter')\n",
    "#'enterway'</br>\n",
    "\n",
    "vowels=('a','e','i','o','u') \n",
    "def pig(word):\n",
    "    if(word[0].lower() in vowels):  #identifyting vowels \n",
    "        print(word.lower()+'way')\n",
    "    else:\n",
    "        print(word[1:].lower()+word[0].lower()+'ay') \n",
    "pig('happy')\n",
    "\n",
    "\n"
   ]
  },
  {
   "cell_type": "code",
   "execution_count": 2,
   "id": "61123609",
   "metadata": {},
   "outputs": [
    {
     "name": "stdout",
     "output_type": "stream",
     "text": [
      "enterway\n"
     ]
    }
   ],
   "source": [
    "vowels=('a','e','i','o','u') \n",
    "def pig(word):\n",
    "    if(word[0].lower() in vowels):  #identifyting vowels \n",
    "        print(word.lower()+'way')\n",
    "    else:\n",
    "        print(word[1:].lower()+word[0].lower()+'ay') \n",
    "pig('Enter')"
   ]
  },
  {
   "cell_type": "code",
   "execution_count": 9,
   "id": "3848d03d",
   "metadata": {},
   "outputs": [
    {
     "ename": "IndentationError",
     "evalue": "unindent does not match any outer indentation level (<tokenize>, line 57)",
     "output_type": "error",
     "traceback": [
      "\u001b[1;36m  File \u001b[1;32m<tokenize>:57\u001b[1;36m\u001b[0m\n\u001b[1;33m    bldcount()      # calling function\u001b[0m\n\u001b[1;37m    ^\u001b[0m\n\u001b[1;31mIndentationError\u001b[0m\u001b[1;31m:\u001b[0m unindent does not match any outer indentation level\n"
     ]
    }
   ],
   "source": [
    "#Question 7\n",
    "#File bloodtype1.txt records blood-types of patients (A, B, AB, O or OO) at a clinic. Write a function bldcount() that reads the file with name name and reports (i.e., prints) how many patients there are in each bloodtype.\n",
    "\n",
    "#>>> bldcount('bloodtype.txt')\n",
    "#There are 10 patients of blood type A.\n",
    "#There is one patient of blood type B.\n",
    "#There are 10 patients of blood type AB.\n",
    "#There are 12 patients of blood type O.\n",
    "#There are no patients of blood type OO.\n",
    "\n",
    "def bldcount():\n",
    "    infile = open('C:/bloodtype1.txt')\n",
    "    data=infile.read()\n",
    "    finalData=data.split()\n",
    "    bld_CountA(finalData.count(\"A\"))         \n",
    "    bld_CountB(finalData.count(\"B\"))       \n",
    "    bld_CountAB(finalData.count(\"AB\"))\n",
    "    bld_CountO(finalData.count(\"O\"))\n",
    "    bld_CountOO(finalData.count(\"OO\"))\n",
    "    infile.close()\n",
    "def bld_CountA(countA):\n",
    "         if(countA==0):\n",
    "            print('There are no patients of blood type A.')\n",
    "         elif(countA==1):\n",
    "            print(\"There is one patient of blood type A.\")\n",
    "         else:\n",
    "            print(\"There are \" + str(countA) + \" patients of blood type A.\")\n",
    "def bld_CountB(countB):\n",
    "         if(countB==0):\n",
    "            print('There are no patients of blood type B.')\n",
    "         elif(countB==1):\n",
    "            print(\"There is one patient of blood type B.\")\n",
    "         else:\n",
    "            print(\"There are \" + str(countB) + \" patients of blood type B.\")\n",
    "def bld_CountAB(countAB):\n",
    "         if(countAB==0):\n",
    "            print('There are no patients of blood type AB.')\n",
    "         elif(countAB==1):\n",
    "            print(\"There is one patient of blood type AB.\")\n",
    "         else:\n",
    "            print(\"There are \" + str(countAB) + \" patients of blood type AB.\")\n",
    "def bld_CountO(countO):\n",
    "         if(countO==0):\n",
    "            print('There are no patients of blood type O.')\n",
    "         elif(countO==1):\n",
    "            print(\"There is one patient of blood type O.\")\n",
    "         else:\n",
    "            print(\"There are \" + str(countO) + \" patients of blood type O.\")\n",
    "def bld_CountOO(countOO):\n",
    "         if(countOO==0):\n",
    "            print('There are no patients of blood type OO.')\n",
    "         elif(countOO==1):\n",
    "            print(\"There is one patient of blood type OO.\")\n",
    "         else:\n",
    "            print(\"There are \" + str(countOO) + \" patients of blood type OO.\")\n",
    "        \n",
    "    bldcount()      # calling function\n",
    "            \n",
    "  "
   ]
  },
  {
   "cell_type": "code",
   "execution_count": 12,
   "id": "6ae28812",
   "metadata": {},
   "outputs": [
    {
     "name": "stdout",
     "output_type": "stream",
     "text": [
      "Enter the currency :EUR\n",
      "Enter the currency :JPY\n"
     ]
    }
   ],
   "source": [
    "#Question 8\n",
    "#Write a function curconv() that takes as input:\n",
    "    \n",
    "currencyEUR= input('Enter the currency :')    ## input for the Euro currency\n",
    "currencyJPY= input('Enter the currency :')    ## input for Japanese currency   "
   ]
  },
  {
   "cell_type": "code",
   "execution_count": 14,
   "id": "2cf00c7d",
   "metadata": {},
   "outputs": [
    {
     "ename": "FileNotFoundError",
     "evalue": "[Errno 2] No such file or directory: 'C:\\\\currencies.txt'",
     "output_type": "error",
     "traceback": [
      "\u001b[1;31m---------------------------------------------------------------------------\u001b[0m",
      "\u001b[1;31mFileNotFoundError\u001b[0m                         Traceback (most recent call last)",
      "Input \u001b[1;32mIn [14]\u001b[0m, in \u001b[0;36m<cell line: 13>\u001b[1;34m()\u001b[0m\n\u001b[0;32m     10\u001b[0m         conv \u001b[38;5;241m=\u001b[39m \u001b[38;5;28mfloat\u001b[39m(finalData[pos]) \u001b[38;5;241m*\u001b[39m conv   \u001b[38;5;66;03m# Accessing that value at particular index and converting to USD\u001b[39;00m\n\u001b[0;32m     11\u001b[0m         \u001b[38;5;28mprint\u001b[39m(\u001b[38;5;124m'\u001b[39m\u001b[38;5;124mYour converted currency in US dollars from \u001b[39m\u001b[38;5;124m'\u001b[39m \u001b[38;5;241m+\u001b[39m curr \u001b[38;5;241m+\u001b[39m \u001b[38;5;124m'\u001b[39m\u001b[38;5;124m : \u001b[39m\u001b[38;5;124m'\u001b[39m \u001b[38;5;241m+\u001b[39m \u001b[38;5;28mstr\u001b[39m(conv))\n\u001b[1;32m---> 13\u001b[0m \u001b[43mcurconv\u001b[49m\u001b[43m(\u001b[49m\u001b[43mcurrencyEUR\u001b[49m\u001b[38;5;241;43m.\u001b[39;49m\u001b[43mupper\u001b[49m\u001b[43m(\u001b[49m\u001b[43m)\u001b[49m\u001b[43m,\u001b[49m\u001b[38;5;241;43m100\u001b[39;49m\u001b[43m)\u001b[49m \n\u001b[0;32m     14\u001b[0m curconv(currencyJPY\u001b[38;5;241m.\u001b[39mupper(),\u001b[38;5;241m100\u001b[39m)\n",
      "Input \u001b[1;32mIn [14]\u001b[0m, in \u001b[0;36mcurconv\u001b[1;34m(curr, conv)\u001b[0m\n\u001b[0;32m      1\u001b[0m \u001b[38;5;28;01mdef\u001b[39;00m \u001b[38;5;21mcurconv\u001b[39m(curr,conv):             \n\u001b[1;32m----> 2\u001b[0m     infile\u001b[38;5;241m=\u001b[39m\u001b[38;5;28;43mopen\u001b[39;49m\u001b[43m(\u001b[49m\u001b[38;5;124;43m'\u001b[39;49m\u001b[38;5;124;43mC:\u001b[39;49m\u001b[38;5;124;43m\\\u001b[39;49m\u001b[38;5;124;43mcurrencies.txt\u001b[39;49m\u001b[38;5;124;43m'\u001b[39;49m\u001b[43m)\u001b[49m\n\u001b[0;32m      3\u001b[0m     data\u001b[38;5;241m=\u001b[39m infile\u001b[38;5;241m.\u001b[39mread()\n\u001b[0;32m      4\u001b[0m     finalData\u001b[38;5;241m=\u001b[39mdata\u001b[38;5;241m.\u001b[39msplit()         \n",
      "\u001b[1;31mFileNotFoundError\u001b[0m: [Errno 2] No such file or directory: 'C:\\\\currencies.txt'"
     ]
    }
   ],
   "source": [
    "def curconv(curr,conv):             \n",
    "    infile=open('C:\\currencies.txt')\n",
    "    data= infile.read()\n",
    "    finalData=data.split()         \n",
    "    #print(data)\n",
    "    #print(finalData)\n",
    "    infile.close()\n",
    "    if(curr in finalData):\n",
    "        pos = finalData.index(curr) + 1       # finding the next position(index) of the required currency\n",
    "        conv = float(finalData[pos]) * conv   # Accessing that value at particular index and converting to USD\n",
    "        print('Your converted currency in US dollars from ' + curr + ' : ' + str(conv))\n",
    "        \n",
    "curconv(currencyEUR.upper(),100) \n",
    "curconv(currencyJPY.upper(),100)"
   ]
  },
  {
   "cell_type": "code",
   "execution_count": 15,
   "id": "5eae95ee",
   "metadata": {},
   "outputs": [
    {
     "ename": "SyntaxError",
     "evalue": "invalid syntax (384637065.py, line 2)",
     "output_type": "error",
     "traceback": [
      "\u001b[1;36m  Input \u001b[1;32mIn [15]\u001b[1;36m\u001b[0m\n\u001b[1;33m    Each of the following will cause an exception (an error). Identify what type of exception each will cause.\u001b[0m\n\u001b[1;37m         ^\u001b[0m\n\u001b[1;31mSyntaxError\u001b[0m\u001b[1;31m:\u001b[0m invalid syntax\n"
     ]
    }
   ],
   "source": [
    "#Question 9\n",
    "Each of the following will cause an exception (an error). Identify what type of exception each will cause.\n",
    "\n",
    "6 + 'a'"
   ]
  },
  {
   "cell_type": "code",
   "execution_count": 16,
   "id": "f1125965",
   "metadata": {},
   "outputs": [
    {
     "ename": "IndexError",
     "evalue": "list index out of range",
     "output_type": "error",
     "traceback": [
      "\u001b[1;31m---------------------------------------------------------------------------\u001b[0m",
      "\u001b[1;31mIndexError\u001b[0m                                Traceback (most recent call last)",
      "Input \u001b[1;32mIn [16]\u001b[0m, in \u001b[0;36m<cell line: 2>\u001b[1;34m()\u001b[0m\n\u001b[0;32m      1\u001b[0m \u001b[38;5;28mlist\u001b[39m \u001b[38;5;241m=\u001b[39m [\u001b[38;5;241m1\u001b[39m,\u001b[38;5;241m2\u001b[39m,\u001b[38;5;241m3\u001b[39m,\u001b[38;5;241m4\u001b[39m,\u001b[38;5;241m5\u001b[39m,\u001b[38;5;241m6\u001b[39m,\u001b[38;5;241m7\u001b[39m,\u001b[38;5;241m8\u001b[39m,\u001b[38;5;241m9\u001b[39m,\u001b[38;5;241m10\u001b[39m]\n\u001b[1;32m----> 2\u001b[0m \u001b[38;5;28mprint\u001b[39m(\u001b[38;5;28;43mlist\u001b[39;49m\u001b[43m[\u001b[49m\u001b[38;5;241;43m12\u001b[39;49m\u001b[43m]\u001b[49m)\n",
      "\u001b[1;31mIndexError\u001b[0m: list index out of range"
     ]
    }
   ],
   "source": [
    "list = [1,2,3,4,5,6,7,8,9,10]\n",
    "print(list[12])"
   ]
  },
  {
   "cell_type": "code",
   "execution_count": 17,
   "id": "8ef678bb",
   "metadata": {},
   "outputs": [
    {
     "ename": "ValueError",
     "evalue": "math domain error",
     "output_type": "error",
     "traceback": [
      "\u001b[1;31m---------------------------------------------------------------------------\u001b[0m",
      "\u001b[1;31mValueError\u001b[0m                                Traceback (most recent call last)",
      "Input \u001b[1;32mIn [17]\u001b[0m, in \u001b[0;36m<cell line: 2>\u001b[1;34m()\u001b[0m\n\u001b[0;32m      1\u001b[0m \u001b[38;5;28;01mimport\u001b[39;00m \u001b[38;5;21;01mmath\u001b[39;00m\n\u001b[1;32m----> 2\u001b[0m \u001b[38;5;28mprint\u001b[39m(\u001b[43mmath\u001b[49m\u001b[38;5;241;43m.\u001b[39;49m\u001b[43msqrt\u001b[49m\u001b[43m(\u001b[49m\u001b[38;5;241;43m-\u001b[39;49m\u001b[38;5;241;43m1.0\u001b[39;49m\u001b[43m)\u001b[49m)\n",
      "\u001b[1;31mValueError\u001b[0m: math domain error"
     ]
    }
   ],
   "source": [
    "import math\n",
    "print(math.sqrt(-1.0))"
   ]
  },
  {
   "cell_type": "code",
   "execution_count": 18,
   "id": "2c1f4530",
   "metadata": {},
   "outputs": [
    {
     "ename": "NameError",
     "evalue": "name 'x' is not defined",
     "output_type": "error",
     "traceback": [
      "\u001b[1;31m---------------------------------------------------------------------------\u001b[0m",
      "\u001b[1;31mNameError\u001b[0m                                 Traceback (most recent call last)",
      "Input \u001b[1;32mIn [18]\u001b[0m, in \u001b[0;36m<cell line: 1>\u001b[1;34m()\u001b[0m\n\u001b[1;32m----> 1\u001b[0m \u001b[38;5;28mprint\u001b[39m(\u001b[43mx\u001b[49m)\n",
      "\u001b[1;31mNameError\u001b[0m: name 'x' is not defined"
     ]
    }
   ],
   "source": [
    "print(x)"
   ]
  },
  {
   "cell_type": "code",
   "execution_count": 19,
   "id": "92a0aefb",
   "metadata": {},
   "outputs": [
    {
     "ename": "FileNotFoundError",
     "evalue": "[Errno 2] No such file or directory: 'Ajaydangi.txt'",
     "output_type": "error",
     "traceback": [
      "\u001b[1;31m---------------------------------------------------------------------------\u001b[0m",
      "\u001b[1;31mFileNotFoundError\u001b[0m                         Traceback (most recent call last)",
      "Input \u001b[1;32mIn [19]\u001b[0m, in \u001b[0;36m<cell line: 1>\u001b[1;34m()\u001b[0m\n\u001b[1;32m----> 1\u001b[0m file \u001b[38;5;241m=\u001b[39m \u001b[38;5;28;43mopen\u001b[39;49m\u001b[43m(\u001b[49m\u001b[38;5;124;43m'\u001b[39;49m\u001b[38;5;124;43mAjaydangi.txt\u001b[39;49m\u001b[38;5;124;43m'\u001b[39;49m\u001b[43m,\u001b[49m\u001b[38;5;124;43m'\u001b[39;49m\u001b[38;5;124;43mr\u001b[39;49m\u001b[38;5;124;43m'\u001b[39;49m\u001b[43m)\u001b[49m\n\u001b[0;32m      2\u001b[0m \u001b[38;5;28mprint\u001b[39m(file\u001b[38;5;241m.\u001b[39mread())\n",
      "\u001b[1;31mFileNotFoundError\u001b[0m: [Errno 2] No such file or directory: 'Ajaydangi.txt'"
     ]
    }
   ],
   "source": [
    "file = open('Ajaydangi.txt','r')\n",
    "print(file.read())"
   ]
  },
  {
   "cell_type": "code",
   "execution_count": 20,
   "id": "5cc8b597",
   "metadata": {},
   "outputs": [
    {
     "name": "stdout",
     "output_type": "stream",
     "text": [
      "1,1,1,3,5,1,1,2,1,0,1,0,1,2,4,0,1,2,0,2,1,0,1,1,0,0,\n",
      "\n",
      "1,0,0,0,1,0,0,0,0,0,0,1,0,0,0,2,0,0,0,0,0,0,0,0,0,0,"
     ]
    }
   ],
   "source": [
    "#Question 10\n",
    "#Encryption is the process of hiding the meaning of a text by substituting letters in the message with other letters, according to some system. If the process is successful, no one but the intended recipient can understand the encrypted message. Cryptanalysis refers to attempts to undo the encryption, even if some details of the encryption are unknown (for example, if an encrypted message has been intercepted). The first step of cryptanalysis is often to build up a table of letter frequencies in the encrypted text. Assume that the string letters is already defined as 'abcdefghijklmnopqrstuvwxyz'. Write a function called frequencies() that takes a string as its only parameter, and returns a list of integers, showing the number of times each character appears in the text. Your function may ignore any characters that are not in letters.\n",
    "#\n",
    "#\n",
    "#>>> frequencies('The quick red fox got bored and went home.') [1, 1, 1, 3, 5, 1, 1, 2, 1, 0, 1, 0, 1, 2, 4, 0, 1, 2, 0, 2, 1, 0, 1, 1, 0, 0] *>>> frequencies('apple')*\n",
    "\n",
    "def frequencies(string):\n",
    "    letters=['a','b','c','d','e','f','g','h','i','j','k','l','m','n','o','p','q','r','s','t','u','v','w','x','y','z']\n",
    "    inputWord= string\n",
    "    Length_letters=len(letters)     #list length counting\n",
    "    for i in range(0,Length_letters):      \n",
    "        data= inputWord.count(letters[i])  \n",
    "        letters1 = str(data)\n",
    "        print(letters1,end= \",\" )\n",
    "frequencies('The quick red fox got bored and went home.')\n",
    "print(\"\\n\")\n",
    "frequencies('apple')"
   ]
  },
  {
   "cell_type": "code",
   "execution_count": null,
   "id": "7c224687",
   "metadata": {},
   "outputs": [],
   "source": []
  }
 ],
 "metadata": {
  "kernelspec": {
   "display_name": "Python 3 (ipykernel)",
   "language": "python",
   "name": "python3"
  },
  "language_info": {
   "codemirror_mode": {
    "name": "ipython",
    "version": 3
   },
   "file_extension": ".py",
   "mimetype": "text/x-python",
   "name": "python",
   "nbconvert_exporter": "python",
   "pygments_lexer": "ipython3",
   "version": "3.9.12"
  }
 },
 "nbformat": 4,
 "nbformat_minor": 5
}
